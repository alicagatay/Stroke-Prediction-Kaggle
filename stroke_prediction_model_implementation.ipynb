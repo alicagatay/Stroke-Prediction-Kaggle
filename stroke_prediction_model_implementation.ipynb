{
 "cells": [
  {
   "cell_type": "markdown",
   "id": "6041903a",
   "metadata": {
    "papermill": {
     "duration": 0.007006,
     "end_time": "2024-10-18T10:10:21.221957",
     "exception": false,
     "start_time": "2024-10-18T10:10:21.214951",
     "status": "completed"
    },
    "tags": []
   },
   "source": [
    "# Problem Statement\n",
    "Stroke is the second leading cause of death globally, accounting for approximately 11% of all fatalities, according to the World Health Organization (WHO). Despite advancements in healthcare, predicting the likelihood of a stroke remains a challenge. The aim of this project is to forecast the probability of an individual experiencing a stroke based on a range of health parameters. Through the analysis of data pertaining to factors such as age, gender, BMI, and medical history, a machine learning model can be developed to anticipate the likelihood of a stroke in an individual. This model holds promise for early identification, facilitating timely interventions to prevent adverse outcomes."
   ]
  },
  {
   "cell_type": "markdown",
   "id": "b4fdc4a8",
   "metadata": {
    "papermill": {
     "duration": 0.005811,
     "end_time": "2024-10-18T10:10:21.234104",
     "exception": false,
     "start_time": "2024-10-18T10:10:21.228293",
     "status": "completed"
    },
    "tags": []
   },
   "source": [
    "# The Dataset\n",
    "The dataset aims to predict the likelihood of stroke by analysing real-world health data from individuals, including patients’ demographics and health attributes. The goal is to provide insights to support early intervention and prevention strategies for stroke. Each row in the data provides relevant information about the patient, such as:\n",
    "1. id: unique identifier\n",
    "2. gender: \"Male\", \"Female\" or \"Other\"\n",
    "3. age: age of the patient\n",
    "4. hypertension: 0 if the patient doesn't have hypertension, 1 if the patient has hypertension\n",
    "5. heart_disease: 0 if the patient doesn't have any heart diseases, 1 if the patient has a heart disease\n",
    "6. ever_married: \"No\" or \"Yes\"\n",
    "7. work_type: \"children\", \"Govt_jov\", \"Never_worked\", \"Private\" or \"Self-employed\"\n",
    "8. Residence_type: \"Rural\" or \"Urban\"\n",
    "9. avg_glucose_level: average glucose level in blood\n",
    "10. bmi: body mass index\n",
    "11. smoking_status: \"formerly smoked\", \"never smoked\", \"smokes\" or \"Unknown\"*\n",
    "12. stroke: 1 if the patient had a stroke or 0 if not"
   ]
  },
  {
   "cell_type": "markdown",
   "id": "ddec1915",
   "metadata": {
    "papermill": {
     "duration": 0.005867,
     "end_time": "2024-10-18T10:10:21.246004",
     "exception": false,
     "start_time": "2024-10-18T10:10:21.240137",
     "status": "completed"
    },
    "tags": []
   },
   "source": [
    "# The Import Statements\n",
    "In order to be able to work with the dataset, and then to implement the machine learning models, we need to import the necessary libraries first."
   ]
  },
  {
   "cell_type": "code",
   "execution_count": 1,
   "id": "eb34ba0b",
   "metadata": {
    "execution": {
     "iopub.execute_input": "2024-10-18T10:10:21.259739Z",
     "iopub.status.busy": "2024-10-18T10:10:21.259338Z",
     "iopub.status.idle": "2024-10-18T10:10:24.030416Z",
     "shell.execute_reply": "2024-10-18T10:10:24.029509Z"
    },
    "papermill": {
     "duration": 2.781315,
     "end_time": "2024-10-18T10:10:24.033329",
     "exception": false,
     "start_time": "2024-10-18T10:10:21.252014",
     "status": "completed"
    },
    "tags": []
   },
   "outputs": [],
   "source": [
    "# Pandas is used for handling data structures and data manipulation, such as reading data from CSV files, managing DataFrames, and performing operations like filtering, grouping, and aggregation.\n",
    "import pandas as pd\n",
    "\n",
    "\n",
    "# Matplotlib's pyplot module is used for creating visualisations such as line charts, bar charts, histograms, scatter plots, and more. It provides control over plot elements like titles, labels, and legends.\n",
    "import matplotlib.pyplot as plt\n",
    "\n",
    "\n",
    "# The RandomForestClassifier from scikit-learn is used for creating a random forest model, which is an ensemble machine learning method based on decision trees, commonly used for classification tasks.\n",
    "from sklearn.ensemble import RandomForestClassifier\n",
    "\n",
    "# The MLPClassifier (Multilayer Perceptron) is a neural network model that supports multi-layer architecture for performing classification tasks, especially useful for more complex datasets.\n",
    "from sklearn.neural_network import MLPClassifier\n",
    "\n",
    "# KNeighborsClassifier is used for implementing the k-Nearest Neighbors algorithm, which is a simple, instance-based learning algorithm for classification tasks based on feature similarity.\n",
    "from sklearn.neighbors import KNeighborsClassifier\n",
    "\n",
    "# Confusion matrix is a performance evaluation metric used to summarize the results of a classification model by showing the count of true positive, true negative, false positive, and false negative predictions.\n",
    "from sklearn.metrics import confusion_matrix\n",
    "\n",
    "# Classification report is used to provide a detailed performance evaluation of a classifier, including precision, recall, F1 score, and accuracy for each class in the dataset.\n",
    "from sklearn.metrics import classification_report\n",
    "\n",
    "# ConfusionMatrixDisplay is used to visually represent the confusion matrix in the form of a heatmap, making it easier to interpret the classification results.\n",
    "from sklearn.metrics import ConfusionMatrixDisplay\n",
    "\n",
    "# SMOTE (Synthetic Minority Oversampling Technique) is used to handle imbalanced datasets by generating synthetic examples for the minority class, improving model performance when dealing with imbalanced data.\n",
    "from imblearn.over_sampling import SMOTE\n",
    "\n",
    "# train_test_split is used to split the dataset into training and testing subsets. This ensures that the model is trained on one part of the data and tested on another, allowing for evaluation of model performance on unseen data.\n",
    "from sklearn.model_selection import train_test_split"
   ]
  },
  {
   "cell_type": "code",
   "execution_count": 2,
   "id": "9b4a2897",
   "metadata": {
    "_cell_guid": "b1076dfc-b9ad-4769-8c92-a6c4dae69d19",
    "_uuid": "8f2839f25d086af736a60e9eeb907d3b93b6e0e5",
    "execution": {
     "iopub.execute_input": "2024-10-18T10:10:24.048270Z",
     "iopub.status.busy": "2024-10-18T10:10:24.047319Z",
     "iopub.status.idle": "2024-10-18T10:10:24.058856Z",
     "shell.execute_reply": "2024-10-18T10:10:24.057811Z"
    },
    "papermill": {
     "duration": 0.022149,
     "end_time": "2024-10-18T10:10:24.061891",
     "exception": false,
     "start_time": "2024-10-18T10:10:24.039742",
     "status": "completed"
    },
    "tags": []
   },
   "outputs": [
    {
     "name": "stdout",
     "output_type": "stream",
     "text": [
      "/kaggle/input/stroke-prediction-dataset/healthcare-dataset-stroke-data.csv\n"
     ]
    }
   ],
   "source": [
    "# This Python 3 environment comes with many helpful analytics libraries installed\n",
    "# It is defined by the kaggle/python Docker image: https://github.com/kaggle/docker-python\n",
    "# For example, here's several helpful packages to load\n",
    "\n",
    "import numpy as np # linear algebra\n",
    "import pandas as pd # data processing, CSV file I/O (e.g. pd.read_csv)\n",
    "\n",
    "# Input data files are available in the read-only \"../input/\" directory\n",
    "# For example, running this (by clicking run or pressing Shift+Enter) will list all files under the input directory\n",
    "\n",
    "import os\n",
    "for dirname, _, filenames in os.walk('/kaggle/input'):\n",
    "    for filename in filenames:\n",
    "        print(os.path.join(dirname, filename))\n",
    "\n",
    "# You can write up to 20GB to the current directory (/kaggle/working/) that gets preserved as output when you create a version using \"Save & Run All\" \n",
    "# You can also write temporary files to /kaggle/temp/, but they won't be saved outside of the current session"
   ]
  },
  {
   "cell_type": "markdown",
   "id": "6323f265",
   "metadata": {
    "papermill": {
     "duration": 0.006948,
     "end_time": "2024-10-18T10:10:24.075313",
     "exception": false,
     "start_time": "2024-10-18T10:10:24.068365",
     "status": "completed"
    },
    "tags": []
   },
   "source": [
    "# Creating the Machine Learning Model Class\n",
    "Since we will implement multiple machine learning models and compare their performances, and also because we want to comply with the rules and design of Object-Oriented Programming principles, we will create a class called `StrokeRiskPredictor` that will contain all the machine learning models, their implementations, and data preprocessing steps as different functions."
   ]
  },
  {
   "cell_type": "code",
   "execution_count": 3,
   "id": "1cdfaed3",
   "metadata": {
    "execution": {
     "iopub.execute_input": "2024-10-18T10:10:24.089809Z",
     "iopub.status.busy": "2024-10-18T10:10:24.088953Z",
     "iopub.status.idle": "2024-10-18T10:10:24.094183Z",
     "shell.execute_reply": "2024-10-18T10:10:24.093101Z"
    },
    "papermill": {
     "duration": 0.015014,
     "end_time": "2024-10-18T10:10:24.096509",
     "exception": false,
     "start_time": "2024-10-18T10:10:24.081495",
     "status": "completed"
    },
    "tags": []
   },
   "outputs": [],
   "source": [
    "class StrokeRiskPredictor:\n",
    "    def __init__(self, data_path):\n",
    "        # Load the dataset from the specified path\n",
    "        self.data = pd.read_csv(data_path)"
   ]
  },
  {
   "cell_type": "markdown",
   "id": "ad245744",
   "metadata": {
    "papermill": {
     "duration": 0.006033,
     "end_time": "2024-10-18T10:10:24.108939",
     "exception": false,
     "start_time": "2024-10-18T10:10:24.102906",
     "status": "completed"
    },
    "tags": []
   },
   "source": [
    "The `StrokeRiskPredictor` will only have one parameter in its constructor, which is the dataset file path. The dataset file path will be used to load the dataset into the class."
   ]
  },
  {
   "cell_type": "markdown",
   "id": "32046967",
   "metadata": {
    "papermill": {
     "duration": 0.005933,
     "end_time": "2024-10-18T10:10:24.121081",
     "exception": false,
     "start_time": "2024-10-18T10:10:24.115148",
     "status": "completed"
    },
    "tags": []
   },
   "source": [
    "# Data Preprocessing\n",
    "Before implementing the machine learning models, we need to preprocess our dataset so that the shape of the dataset is suitable for the machine learning models we are implementing. In our case here are the data preprocessing steps we need to take:\n",
    "\n",
    "## One-Hot Encoding Categorical Variables:\n",
    "Since most of the categorical data in our dataset is text based, we need to convert them into numerical format. One way to do this is to use one-hot encoding. One-hot encoding is a process by which categorical variables are converted into a numerical format without an arbitrary ordering. This is done by creating binary columns for each category in the categorical variable. For example, if we have a categorical variable called ever_married with two categories 'Yes' and 'No', one-hot encoding will create two columns called ever_married_Yes and ever_married_No. If a patient is married, the ever_married_Yes column will have a value of 1 and the ever_married_No column will have a value of 0. If a patient is not married, the ever_married_Yes column will have a value of 0 and the ever_married_No column will have a value of 1. This way, we can represent categorical variables in a numerical format that machine learning models can understand.\n",
    "\n",
    "## Filling Missing BMI Values:\n",
    "The `bmi` column in our dataset has some missing values. In order to be able to use the `bmi` column in our machine learning models, we first need to fill in these missing values. One way to fill in these missing values is to use the `fillna()` method from pandas with the `median()` method. The `median()` method calculates the median of the `bmi` column and fills in the missing values with this value.\n",
    "\n",
    "## Dropping Unnecessary Columns:\n",
    "The `stroke` column is the target variable that we want to predict. Therefore, we need to separate this column from the rest of the dataset and store it in a separate variable. Likewise, the `id` column is not relevant for prediction purposes, so we can drop it from the dataset. The remaining columns will be used as features for our machine learning models. \n",
    "\n",
    "## Separating Features and Target Variable:\n",
    "After cleaning the data, I assign all the remaining columns to X (the features) and assign the values from the 'stroke' column to y (the target variable).\n",
    "\n",
    "## Handling Class Imbalance with SMOTE:\n",
    "Since the dataset might have an imbalance in the target classes(4861 `0` values and 249 `1` values), I use SMOTE (Synthetic Minority Over-sampling Technique) to balance the data. SMOTE helps me by generating synthetic examples for the minority class using examples from the actual dataset, ensuring that the model doesn’t become biased towards the majority class during training. This might make the model a bit inaccurate as the synthetic examples might not be as accurate as the real examples, but that is a trade-off I am willing to make to ensure that the model is not biased towards the majority class."
   ]
  },
  {
   "cell_type": "code",
   "execution_count": 4,
   "id": "2c480d49",
   "metadata": {
    "execution": {
     "iopub.execute_input": "2024-10-18T10:10:24.135557Z",
     "iopub.status.busy": "2024-10-18T10:10:24.134872Z",
     "iopub.status.idle": "2024-10-18T10:10:24.144614Z",
     "shell.execute_reply": "2024-10-18T10:10:24.143510Z"
    },
    "papermill": {
     "duration": 0.019581,
     "end_time": "2024-10-18T10:10:24.146970",
     "exception": false,
     "start_time": "2024-10-18T10:10:24.127389",
     "status": "completed"
    },
    "tags": []
   },
   "outputs": [],
   "source": [
    "def preprocess_data(self):\n",
    "    # Convert categorical variables into numerical representations using one-hot encoding.\n",
    "    # This will create new binary columns for each unique value in 'gender', 'ever_married',\n",
    "    # 'work_type', 'Residence_type', and 'smoking_status'. This step is necessary for many machine\n",
    "    # learning models, which cannot work directly with categorical data.\n",
    "    dataset_stroke_prediction_encoded = pd.get_dummies(self.data, columns=[\n",
    "                                                       'gender', 'ever_married', 'work_type', 'Residence_type', 'smoking_status'])\n",
    "\n",
    "    # Replace any missing values in the 'bmi' column with the median value of 'bmi' from the dataset.\n",
    "    # Filling missing values with the median ensures that we handle incomplete data without introducing\n",
    "    # extreme outliers or biases that could arise from using other imputation strategies like mean.\n",
    "    dataset_stroke_prediction_encoded['bmi'].fillna(\n",
    "        dataset_stroke_prediction_encoded['bmi'].median(), inplace=True)\n",
    "\n",
    "    # Select the feature variables (X) by excluding the 'stroke' column, which is the target variable\n",
    "    # we are trying to predict, and the 'id' column, which is just an identifier and holds no predictive\n",
    "    # power. This ensures the model only trains on relevant features.\n",
    "    X = dataset_stroke_prediction_encoded.drop(columns=['stroke', 'id'])\n",
    "\n",
    "    # Define the target variable (y), which we are trying to predict. In this case, 'stroke' indicates\n",
    "    # whether a person has had a stroke (1) or not (0). This is the outcome we want to classify.\n",
    "    y = dataset_stroke_prediction_encoded['stroke']\n",
    "\n",
    "    # Initialise SMOTE (Synthetic Minority Over-sampling Technique), which is used to address the issue\n",
    "    # of class imbalance in the dataset. In this case, the number of stroke cases (minority class) is much lower\n",
    "    # than the number of non-stroke cases (majority class). SMOTE generates synthetic samples to balance the two\n",
    "    # classes, preventing the model from being biased towards the majority class.\n",
    "    smote = SMOTE(random_state=42)\n",
    "\n",
    "    # Apply SMOTE to resample the feature set (X) and the target variable (y). This step will balance the\n",
    "    # dataset by generating new instances of the minority class (stroke cases), ensuring that both classes\n",
    "    # (stroke and no stroke) are equally represented in the training data. This helps improve model performance\n",
    "    # when predicting the minority class.\n",
    "    X_resampled, y_resampled = smote.fit_resample(X, y)\n",
    "\n",
    "    # Return the resampled features (X_resampled) and target variable (y_resampled). This dataset will be used\n",
    "    # to train the machine learning model, ensuring a balanced dataset that can better predict stroke cases.\n",
    "    return X_resampled, y_resampled\n",
    "\n",
    "\n",
    "# Assign the function to the StrokeRiskPredictor class dynamically so it can be called on class instances.\n",
    "StrokeRiskPredictor.preprocess_data = preprocess_data"
   ]
  },
  {
   "cell_type": "markdown",
   "id": "0ce28f7c",
   "metadata": {
    "papermill": {
     "duration": 0.006008,
     "end_time": "2024-10-18T10:10:24.159459",
     "exception": false,
     "start_time": "2024-10-18T10:10:24.153451",
     "status": "completed"
    },
    "tags": []
   },
   "source": [
    "# Separating The Data Into Training and Testing Sets:\n",
    "Once we have our data prepared, we need to divide it into training and testing sets. We will allocate 70% of the data for training and 30% for testing. The training set will enable the model to understand patterns and relationships within the data, while the testing set will be used to assess the model’s performance on unseen data. This approach allows us to evaluate how well the model can apply its learning to new data, ensuring that it doesn’t just memorise the training data but can also make accurate predictions in real-world scenarios."
   ]
  },
  {
   "cell_type": "code",
   "execution_count": 5,
   "id": "2614c070",
   "metadata": {
    "execution": {
     "iopub.execute_input": "2024-10-18T10:10:24.174269Z",
     "iopub.status.busy": "2024-10-18T10:10:24.173327Z",
     "iopub.status.idle": "2024-10-18T10:10:24.179276Z",
     "shell.execute_reply": "2024-10-18T10:10:24.178273Z"
    },
    "papermill": {
     "duration": 0.015708,
     "end_time": "2024-10-18T10:10:24.181516",
     "exception": false,
     "start_time": "2024-10-18T10:10:24.165808",
     "status": "completed"
    },
    "tags": []
   },
   "outputs": [],
   "source": [
    "def create_training_and_testing_data(self, x, y):\n",
    "    # Split the data into training and testing sets using train_test_split.\n",
    "    # 'x' represents the features, and 'y' represents the target (labels).\n",
    "    # We are splitting the data such that 70% is used for training and 30% for testing.\n",
    "    # 'random_state=42' ensures that the split is reproducible every time the code is run.\n",
    "    X_train, X_test, y_train, y_test = train_test_split(x, y, test_size=0.3, random_state=42)\n",
    "\n",
    "    # Return the split datasets: X_train and y_train are used to train the model,\n",
    "    # while X_test and y_test are used to evaluate the model's performance on unseen data.\n",
    "    return X_train, X_test, y_train, y_test\n",
    "\n",
    "\n",
    "# Dynamically add the create_training_and_testing_data method to the StrokeRiskPredictor class.\n",
    "StrokeRiskPredictor.create_training_and_testing_data = create_training_and_testing_data"
   ]
  },
  {
   "cell_type": "markdown",
   "id": "f4d2296a",
   "metadata": {
    "papermill": {
     "duration": 0.005978,
     "end_time": "2024-10-18T10:10:24.193950",
     "exception": false,
     "start_time": "2024-10-18T10:10:24.187972",
     "status": "completed"
    },
    "tags": []
   },
   "source": [
    "# Machine Learning Model Implementations\n",
    "It is time to implement various machine learning models to evaluate their performance in predicting the likelihood of a stroke using the `Stroke Prediction Dataset`.\n",
    "\n",
    "The machine learning models we are going to implement are:\n",
    "* k-Nearest Neighbors(KNN) Classifier\n",
    "* Neural Network Classifier\n",
    "* Random Forest Classifier"
   ]
  },
  {
   "cell_type": "markdown",
   "id": "ec696506",
   "metadata": {
    "papermill": {
     "duration": 0.005911,
     "end_time": "2024-10-18T10:10:24.206024",
     "exception": false,
     "start_time": "2024-10-18T10:10:24.200113",
     "status": "completed"
    },
    "tags": []
   },
   "source": [
    "## kNN (k-Nearest Neighbors) Classifier\n",
    "The k-Nearest Neighbors (kNN) algorithm is a simple, non-parametric classification method used to assign a label to an input based on its closest data points in the feature space. It works by finding the “k” number of nearest data points (neighbors) from the training dataset and classifying the input according to the majority class among these neighbors. The distance between data points is typically measured using metrics like Euclidean or Manhattan distance. kNN is a lazy learning algorithm, meaning it doesn’t explicitly learn a model but makes predictions by directly comparing new inputs with stored training examples. Its simplicity makes it easy to implement, but its performance can be affected by the choice of “k” and the scale of the data.\n",
    "\n",
    "Let's now implement the k-Nearest Neighbors (kNN) Classifier for the `StrokeRiskPredictor` class to make predictions on the `Stroke Prediction Dataset`."
   ]
  },
  {
   "cell_type": "code",
   "execution_count": 6,
   "id": "aa432309",
   "metadata": {
    "execution": {
     "iopub.execute_input": "2024-10-18T10:10:24.220553Z",
     "iopub.status.busy": "2024-10-18T10:10:24.219811Z",
     "iopub.status.idle": "2024-10-18T10:10:24.228034Z",
     "shell.execute_reply": "2024-10-18T10:10:24.226867Z"
    },
    "papermill": {
     "duration": 0.01811,
     "end_time": "2024-10-18T10:10:24.230404",
     "exception": false,
     "start_time": "2024-10-18T10:10:24.212294",
     "status": "completed"
    },
    "tags": []
   },
   "outputs": [],
   "source": [
    "def k_nearest_neighbours_classifier(self, X_train, X_test, y_train, y_test):\n",
    "    # Initialize the k-Nearest Neighbors classifier with 2 neighbors.\n",
    "    # 'n_neighbors=2' means the algorithm will look at the 2 nearest data points to classify a new data point.\n",
    "    model = KNeighborsClassifier(n_neighbors=2)\n",
    "\n",
    "    # Fit the k-NN model on the training data. This trains the model by storing the data points\n",
    "    # in memory, which will be used during the prediction phase to find the closest neighbors.\n",
    "    model.fit(X_train, y_train)\n",
    "\n",
    "    # Use the trained model to predict the class labels for the test data.\n",
    "    # 'X_test.values' is used to ensure the input is in the correct format (NumPy array) for prediction.\n",
    "    y_pred = model.predict(X_test.values)\n",
    "\n",
    "    # Print the classification report which provides detailed metrics like precision, recall, f1-score,\n",
    "    # and accuracy for each class. These metrics help evaluate the performance of the classifier.\n",
    "    # - Precision: Proportion of true positives out of all predicted positives.\n",
    "    # - Recall: Proportion of true positives out of all actual positives.\n",
    "    # - F1-Score: Harmonic mean of precision and recall, balancing the two.\n",
    "    # - Accuracy: Overall correctness of the model.\n",
    "    print(classification_report(y_test, y_pred))\n",
    "\n",
    "    # Create a confusion matrix, which compares the actual values with predicted values.\n",
    "    # It shows the number of true positives, true negatives, false positives, and false negatives.\n",
    "    # This matrix helps identify how well the model is distinguishing between the classes.\n",
    "    cm = confusion_matrix(y_test, y_pred)\n",
    "\n",
    "    # Create a confusion matrix display object and set the labels for the two classes (0 and 1).\n",
    "    # The display will visually represent the confusion matrix as a plot, with a color map for easier interpretation.\n",
    "    disp = ConfusionMatrixDisplay(confusion_matrix=cm, display_labels=[0, 1])\n",
    "\n",
    "    # Plot the confusion matrix with a blue color map ('Blues') for better visual distinction.\n",
    "    # Adding a title 'Confusion Matrix' to the plot for clarity.\n",
    "    disp.plot(cmap='Blues')\n",
    "    plt.title(\"Confusion Matrix\")\n",
    "\n",
    "    # Display the confusion matrix plot on the screen.\n",
    "    plt.show()\n",
    "\n",
    "# Add the k_nearest_neighbours_classifier method to the StrokeRiskPredictor class\n",
    "StrokeRiskPredictor.k_nearest_neighbours_classifier = k_nearest_neighbours_classifier"
   ]
  },
  {
   "cell_type": "markdown",
   "id": "c5191af1",
   "metadata": {
    "papermill": {
     "duration": 0.006132,
     "end_time": "2024-10-18T10:10:24.242845",
     "exception": false,
     "start_time": "2024-10-18T10:10:24.236713",
     "status": "completed"
    },
    "tags": []
   },
   "source": [
    "## Neural Network Classifier\n",
    "A Neural Network Classifier is a machine learning algorithm inspired by the structure of the human brain, consisting of layers of interconnected nodes (neurons). Each neuron receives inputs, processes them through weighted connections, and passes the output through an activation function. The network learns by adjusting these weights during training using techniques like backpropagation to minimize the error between predicted and actual outputs. Neural networks are highly flexible and can model complex relationships in data, making them effective for tasks like image classification, speech recognition, and more. However, they require large amounts of data and computational resources to perform well.\n",
    "\n",
    "Let's now implement the Neural Network Classifier for the `StrokeRiskPredictor` class to make predictions on the `Stroke Prediction Dataset`."
   ]
  },
  {
   "cell_type": "code",
   "execution_count": 7,
   "id": "ee3e2c0e",
   "metadata": {
    "execution": {
     "iopub.execute_input": "2024-10-18T10:10:24.258020Z",
     "iopub.status.busy": "2024-10-18T10:10:24.256937Z",
     "iopub.status.idle": "2024-10-18T10:10:24.266180Z",
     "shell.execute_reply": "2024-10-18T10:10:24.265129Z"
    },
    "papermill": {
     "duration": 0.019199,
     "end_time": "2024-10-18T10:10:24.268421",
     "exception": false,
     "start_time": "2024-10-18T10:10:24.249222",
     "status": "completed"
    },
    "tags": []
   },
   "outputs": [],
   "source": [
    "def neural_network_classifier(self, X_train, X_test, y_train, y_test):\n",
    "    # Initialize the Multi-Layer Perceptron (MLP) classifier with the following parameters:\n",
    "    # - solver='adam': Optimization algorithm used to train the model (Adam optimizer).\n",
    "    # - activation='relu': Rectified Linear Unit (ReLU) is used as the activation function, adding non-linearity to the model.\n",
    "    # - hidden_layer_sizes=(32, 16): Defines the structure of the neural network with 6 hidden layers, each containing the specified number of neurons (32 and 16 respectively).\n",
    "    # - max_iter=1000: The maximum number of iterations for training.\n",
    "    # - verbose=True: Enables detailed output during training so we can track progress.\n",
    "    # - random_state=42: Ensures reproducibility of the results by fixing the random seed.\n",
    "    # - alpha=0.001: L2 regularization parameter to prevent overfitting by penalizing large weights.\n",
    "    model = MLPClassifier(solver='adam', activation='relu', hidden_layer_sizes=(32, 16), max_iter=1000, verbose=True, random_state=42, alpha=0.001)\n",
    "    # Fit the neural network model on the training data.\n",
    "    # The model will learn patterns from the training set (X_train and y_train) by adjusting weights and biases\n",
    "    # to minimize the loss (error between actual and predicted values).\n",
    "    model.fit(X_train, y_train)\n",
    "\n",
    "    # Evaluate the model on the test data using the model's score method.\n",
    "    # This will return the mean accuracy on the test data, giving a general idea of the model's performance.\n",
    "    print(f\"Model Test Score: {model.score(X_test, y_test)}\")\n",
    "\n",
    "    # Make predictions on the test set (X_test) using the trained neural network model.\n",
    "    # The model uses the learned weights to predict the target values (y_pred).\n",
    "    y_pred = model.predict(X_test)\n",
    "\n",
    "    # Create a confusion matrix to evaluate how well the model has classified the test data.\n",
    "    # The matrix will display true positives, true negatives, false positives, and false negatives.\n",
    "    cm = confusion_matrix(y_test, y_pred)\n",
    "\n",
    "    # Display the confusion matrix with labels matching the model's predicted classes.\n",
    "    # The color map 'Blues' is used for easier visual interpretation.\n",
    "    disp = ConfusionMatrixDisplay(confusion_matrix=cm, display_labels=model.classes_)\n",
    "    disp.plot(cmap='Blues')\n",
    "\n",
    "    # Set the title of the confusion matrix plot to \"Confusion Matrix\" for clarity.\n",
    "    plt.title(\"Confusion Matrix\")\n",
    "\n",
    "    # Show the confusion matrix plot.\n",
    "    plt.show()\n",
    "\n",
    "    # Plot the model's loss curve, which shows how the loss function (error) decreased over each iteration during training.\n",
    "    # This is useful to check if the model has converged or if further training is needed.\n",
    "    plt.plot(model.loss_curve_)\n",
    "    plt.title(\"Model Loss Curve\")\n",
    "    plt.xlabel(\"Iteration\")\n",
    "    plt.ylabel(\"Loss\")\n",
    "\n",
    "    # Show the loss curve plot.\n",
    "    plt.show()\n",
    "# Add the neural_network_classifier method to the StrokeRiskPredictor class\n",
    "StrokeRiskPredictor.neural_network_classifier = neural_network_classifier"
   ]
  },
  {
   "cell_type": "markdown",
   "id": "3fa394fb",
   "metadata": {
    "papermill": {
     "duration": 0.006015,
     "end_time": "2024-10-18T10:10:24.280884",
     "exception": false,
     "start_time": "2024-10-18T10:10:24.274869",
     "status": "completed"
    },
    "tags": []
   },
   "source": [
    "## Random Forest Classifier\n",
    "The Random Forest Classifier is an ensemble learning algorithm that combines multiple decision trees to improve classification accuracy and reduce overfitting. Each tree in the forest is built using a random subset of the training data and features, and the final prediction is made by aggregating the individual predictions from all the trees, typically through a majority vote. This randomness helps create diverse trees, making the model more robust and less sensitive to noise in the data. Random Forest is highly effective for both classification and regression tasks, offering a good balance between accuracy and interpretability while being less prone to overfitting than single decision trees.\n",
    "\n",
    "Let's now implement the Random Forest Classifier for the `StrokeRiskPredictor` class to make predictions on the `stroke-prediction.csv` dataset."
   ]
  },
  {
   "cell_type": "code",
   "execution_count": 8,
   "id": "72e0f78f",
   "metadata": {
    "execution": {
     "iopub.execute_input": "2024-10-18T10:10:24.295196Z",
     "iopub.status.busy": "2024-10-18T10:10:24.294809Z",
     "iopub.status.idle": "2024-10-18T10:10:24.302727Z",
     "shell.execute_reply": "2024-10-18T10:10:24.301610Z"
    },
    "papermill": {
     "duration": 0.017671,
     "end_time": "2024-10-18T10:10:24.304933",
     "exception": false,
     "start_time": "2024-10-18T10:10:24.287262",
     "status": "completed"
    },
    "tags": []
   },
   "outputs": [],
   "source": [
    "def random_forest_classifier(self, X_train, X_test, y_train, y_test):\n",
    "    # Initialize the Random Forest classifier with the following parameters:\n",
    "    # - random_state=42: Sets the seed for reproducibility, ensuring consistent results across runs.\n",
    "    # - class_weight='balanced': Adjusts the weights for each class based on their frequency in the data.\n",
    "    #   This helps handle class imbalances by giving more importance to the minority class.\n",
    "    model = RandomForestClassifier(random_state=42, class_weight='balanced')\n",
    "\n",
    "    # Train the Random Forest classifier on the training data (X_train, y_train).\n",
    "    # The model learns by creating multiple decision trees and averaging their predictions to minimize overfitting.\n",
    "    model.fit(X_train, y_train)\n",
    "\n",
    "    # Use the trained Random Forest model to make predictions on the test data (X_test).\n",
    "    # The predicted values (y_pred) are the model's classification output for each sample in the test set.\n",
    "    y_pred = model.predict(X_test)\n",
    "\n",
    "    # Print a classification report that provides detailed metrics such as precision, recall, f1-score,\n",
    "    # and accuracy for the model's predictions. This helps evaluate how well the model performed.\n",
    "    print(classification_report(y_test, y_pred))\n",
    "\n",
    "    # Generate a confusion matrix that compares the actual test labels (y_test) with the predicted labels (y_pred).\n",
    "    # It helps visualize how many samples were correctly or incorrectly classified.\n",
    "    cm = confusion_matrix(y_test, y_pred)\n",
    "\n",
    "    # Display the confusion matrix in a plot, with labels for both classes (0 and 1).\n",
    "    # The color map 'Blues' provides a visual representation of the matrix, making it easier to interpret.\n",
    "    disp = ConfusionMatrixDisplay(confusion_matrix=cm, display_labels=[0, 1])\n",
    "    disp.plot(cmap='Blues')\n",
    "\n",
    "    # Set the plot's title to \"Confusion Matrix\" for clarity.\n",
    "    plt.title(\"Confusion Matrix\")\n",
    "\n",
    "    # Display the confusion matrix plot on the screen.\n",
    "    plt.show()\n",
    "# Add the random_forest_classifier method to the StrokeRiskPredictor class\n",
    "StrokeRiskPredictor.random_forest_classifier = random_forest_classifier"
   ]
  },
  {
   "cell_type": "markdown",
   "id": "7a3dfec0",
   "metadata": {
    "papermill": {
     "duration": 0.006024,
     "end_time": "2024-10-18T10:10:24.317272",
     "exception": false,
     "start_time": "2024-10-18T10:10:24.311248",
     "status": "completed"
    },
    "tags": []
   },
   "source": [
    "# Testing Out The Models\n",
    "Since now we have implemented all 3 of our machine learning models, it is time to test them out and see how well they perform on the `Stroke Prediction Dataset`. We will evaluate the performance of each model using metrics such as accuracy, precision, recall, and F1 score. These metrics will help us understand how well each model is performing in predicting the likelihood of a stroke."
   ]
  },
  {
   "cell_type": "markdown",
   "id": "b4f3d9c6",
   "metadata": {
    "papermill": {
     "duration": 0.005954,
     "end_time": "2024-10-18T10:10:24.329602",
     "exception": false,
     "start_time": "2024-10-18T10:10:24.323648",
     "status": "completed"
    },
    "tags": []
   },
   "source": [
    "First, let's preprocess the dataset so that it is ready to be used by our machine learning models."
   ]
  },
  {
   "cell_type": "code",
   "execution_count": 9,
   "id": "6b0dcfe1",
   "metadata": {
    "execution": {
     "iopub.execute_input": "2024-10-18T10:10:24.344009Z",
     "iopub.status.busy": "2024-10-18T10:10:24.343204Z",
     "iopub.status.idle": "2024-10-18T10:10:24.472863Z",
     "shell.execute_reply": "2024-10-18T10:10:24.471628Z"
    },
    "papermill": {
     "duration": 0.139294,
     "end_time": "2024-10-18T10:10:24.475099",
     "exception": false,
     "start_time": "2024-10-18T10:10:24.335805",
     "status": "completed"
    },
    "tags": []
   },
   "outputs": [
    {
     "name": "stderr",
     "output_type": "stream",
     "text": [
      "/tmp/ipykernel_17/3409002403.py:12: FutureWarning: A value is trying to be set on a copy of a DataFrame or Series through chained assignment using an inplace method.\n",
      "The behavior will change in pandas 3.0. This inplace method will never work because the intermediate object on which we are setting values always behaves as a copy.\n",
      "\n",
      "For example, when doing 'df[col].method(value, inplace=True)', try using 'df.method({col: value}, inplace=True)' or df[col] = df[col].method(value) instead, to perform the operation inplace on the original object.\n",
      "\n",
      "\n",
      "  dataset_stroke_prediction_encoded['bmi'].fillna(\n"
     ]
    }
   ],
   "source": [
    "# Create an instance of the StrokeRiskPredictor class with the path to the dataset.\n",
    "predictor = StrokeRiskPredictor(\"/kaggle/input/stroke-prediction-dataset/healthcare-dataset-stroke-data.csv\")\n",
    "\n",
    "# Preprocess the data to handle categorical variables and missing values, and balance the dataset using SMOTE.\n",
    "X_resampled, y_resampled = predictor.preprocess_data()\n",
    "\n",
    "# Split the preprocessed data into training and testing sets.\n",
    "X_train, X_test, y_train, y_test = predictor.create_training_and_testing_data(X_resampled, y_resampled)"
   ]
  },
  {
   "cell_type": "markdown",
   "id": "31fae5b7",
   "metadata": {
    "papermill": {
     "duration": 0.006103,
     "end_time": "2024-10-18T10:10:24.487672",
     "exception": false,
     "start_time": "2024-10-18T10:10:24.481569",
     "status": "completed"
    },
    "tags": []
   },
   "source": [
    "## Testing out the K-Nearest Neighbors (kNN) Classifier"
   ]
  },
  {
   "cell_type": "code",
   "execution_count": 10,
   "id": "561e21b2",
   "metadata": {
    "execution": {
     "iopub.execute_input": "2024-10-18T10:10:24.502296Z",
     "iopub.status.busy": "2024-10-18T10:10:24.501564Z",
     "iopub.status.idle": "2024-10-18T10:10:25.018292Z",
     "shell.execute_reply": "2024-10-18T10:10:25.017043Z"
    },
    "papermill": {
     "duration": 0.526542,
     "end_time": "2024-10-18T10:10:25.020638",
     "exception": false,
     "start_time": "2024-10-18T10:10:24.494096",
     "status": "completed"
    },
    "tags": []
   },
   "outputs": [
    {
     "name": "stderr",
     "output_type": "stream",
     "text": [
      "/opt/conda/lib/python3.10/site-packages/sklearn/base.py:439: UserWarning: X does not have valid feature names, but KNeighborsClassifier was fitted with feature names\n",
      "  warnings.warn(\n"
     ]
    },
    {
     "name": "stdout",
     "output_type": "stream",
     "text": [
      "              precision    recall  f1-score   support\n",
      "\n",
      "           0       0.96      0.90      0.93      1457\n",
      "           1       0.91      0.96      0.93      1460\n",
      "\n",
      "    accuracy                           0.93      2917\n",
      "   macro avg       0.93      0.93      0.93      2917\n",
      "weighted avg       0.93      0.93      0.93      2917\n",
      "\n"
     ]
    },
    {
     "data": {
      "image/png": "[encoded data removed]",
      "text/plain": [
       "<Figure size 640x480 with 2 Axes>"
      ]
     },
     "metadata": {},
     "output_type": "display_data"
    }
   ],
   "source": [
    "# Train and evaluate a k-Nearest Neighbors classifier on the data.\n",
    "predictor.k_nearest_neighbours_classifier(X_train, X_test, y_train, y_test)"
   ]
  },
  {
   "cell_type": "markdown",
   "id": "b99a191c",
   "metadata": {
    "papermill": {
     "duration": 0.006662,
     "end_time": "2024-10-18T10:10:25.034615",
     "exception": false,
     "start_time": "2024-10-18T10:10:25.027953",
     "status": "completed"
    },
    "tags": []
   },
   "source": [
    "## Testing out the Neural Network Classifier"
   ]
  },
  {
   "cell_type": "code",
   "execution_count": 11,
   "id": "12a3cb9f",
   "metadata": {
    "execution": {
     "iopub.execute_input": "2024-10-18T10:10:25.050308Z",
     "iopub.status.busy": "2024-10-18T10:10:25.049902Z",
     "iopub.status.idle": "2024-10-18T10:10:29.580634Z",
     "shell.execute_reply": "2024-10-18T10:10:29.579567Z"
    },
    "papermill": {
     "duration": 4.541506,
     "end_time": "2024-10-18T10:10:29.583094",
     "exception": false,
     "start_time": "2024-10-18T10:10:25.041588",
     "status": "completed"
    },
    "tags": []
   },
   "outputs": [
    {
     "name": "stdout",
     "output_type": "stream",
     "text": [
      "Iteration 1, loss = 7.37250557\n",
      "Iteration 2, loss = 0.93668326\n",
      "Iteration 3, loss = 0.57315733\n",
      "Iteration 4, loss = 0.54899955\n",
      "Iteration 5, loss = 0.53390922\n",
      "Iteration 6, loss = 0.52159877\n",
      "Iteration 7, loss = 0.51239965\n",
      "Iteration 8, loss = 0.50614123\n",
      "Iteration 9, loss = 0.49821969\n",
      "Iteration 10, loss = 0.48513401\n",
      "Iteration 11, loss = 0.47462702\n",
      "Iteration 12, loss = 0.49375897\n",
      "Iteration 13, loss = 0.45550122\n",
      "Iteration 14, loss = 0.44714675\n",
      "Iteration 15, loss = 0.44589741\n",
      "Iteration 16, loss = 0.43088415\n",
      "Iteration 17, loss = 0.42670844\n",
      "Iteration 18, loss = 0.42159335\n",
      "Iteration 19, loss = 0.41548634\n",
      "Iteration 20, loss = 0.41308693\n",
      "Iteration 21, loss = 0.40160393\n",
      "Iteration 22, loss = 0.39515657\n",
      "Iteration 23, loss = 0.39085960\n",
      "Iteration 24, loss = 0.38135668\n",
      "Iteration 25, loss = 0.37784582\n",
      "Iteration 26, loss = 0.37671211\n",
      "Iteration 27, loss = 0.36563283\n",
      "Iteration 28, loss = 0.36242580\n",
      "Iteration 29, loss = 0.35645229\n",
      "Iteration 30, loss = 0.34809735\n",
      "Iteration 31, loss = 0.34505049\n",
      "Iteration 32, loss = 0.34420897\n",
      "Iteration 33, loss = 0.33434295\n",
      "Iteration 34, loss = 0.32910420\n",
      "Iteration 35, loss = 0.32627564\n",
      "Iteration 36, loss = 0.32389050\n",
      "Iteration 37, loss = 0.30861466\n",
      "Iteration 38, loss = 0.29793731\n",
      "Iteration 39, loss = 0.29662677\n",
      "Iteration 40, loss = 0.32702757\n",
      "Iteration 41, loss = 0.28865327\n",
      "Iteration 42, loss = 0.28402058\n",
      "Iteration 43, loss = 0.29999555\n",
      "Iteration 44, loss = 0.27681948\n",
      "Iteration 45, loss = 0.26745167\n",
      "Iteration 46, loss = 0.26399777\n",
      "Iteration 47, loss = 0.26173559\n",
      "Iteration 48, loss = 0.26588538\n",
      "Iteration 49, loss = 0.26194806\n",
      "Iteration 50, loss = 0.25162721\n",
      "Iteration 51, loss = 0.24831010\n",
      "Iteration 52, loss = 0.26572171\n",
      "Iteration 53, loss = 0.24691403\n",
      "Iteration 54, loss = 0.24372076\n",
      "Iteration 55, loss = 0.26381977\n",
      "Iteration 56, loss = 0.23928566\n",
      "Iteration 57, loss = 0.23446558\n",
      "Iteration 58, loss = 0.23410220\n",
      "Iteration 59, loss = 0.23024767\n",
      "Iteration 60, loss = 0.24127353\n",
      "Iteration 61, loss = 0.23072896\n",
      "Iteration 62, loss = 0.22789091\n",
      "Iteration 63, loss = 0.22385152\n",
      "Iteration 64, loss = 0.22999650\n",
      "Iteration 65, loss = 0.22147507\n",
      "Iteration 66, loss = 0.21887695\n",
      "Iteration 67, loss = 0.21706404\n",
      "Iteration 68, loss = 0.21768891\n",
      "Iteration 69, loss = 0.21859049\n",
      "Iteration 70, loss = 0.23044027\n",
      "Iteration 71, loss = 0.21227195\n",
      "Iteration 72, loss = 0.21097530\n",
      "Iteration 73, loss = 0.21776505\n",
      "Iteration 74, loss = 0.19965800\n",
      "Iteration 75, loss = 0.22072201\n",
      "Iteration 76, loss = 0.19970384\n",
      "Iteration 77, loss = 0.20163733\n",
      "Iteration 78, loss = 0.19373185\n",
      "Iteration 79, loss = 0.19582873\n",
      "Iteration 80, loss = 0.19899870\n",
      "Iteration 81, loss = 0.18994466\n",
      "Iteration 82, loss = 0.18866589\n",
      "Iteration 83, loss = 0.18911246\n",
      "Iteration 84, loss = 0.19306545\n",
      "Iteration 85, loss = 0.20719983\n",
      "Iteration 86, loss = 0.19097123\n",
      "Iteration 87, loss = 0.18434901\n",
      "Iteration 88, loss = 0.18124997\n",
      "Iteration 89, loss = 0.18062574\n",
      "Iteration 90, loss = 0.17509948\n",
      "Iteration 91, loss = 0.18463743\n",
      "Iteration 92, loss = 0.18415457\n",
      "Iteration 93, loss = 0.18525477\n",
      "Iteration 94, loss = 0.17372429\n",
      "Iteration 95, loss = 0.17195434\n",
      "Iteration 96, loss = 0.17165294\n",
      "Iteration 97, loss = 0.16775289\n",
      "Iteration 98, loss = 0.16941359\n",
      "Iteration 99, loss = 0.18222862\n",
      "Iteration 100, loss = 0.17405413\n",
      "Iteration 101, loss = 0.16713547\n",
      "Iteration 102, loss = 0.17716764\n",
      "Iteration 103, loss = 0.17048944\n",
      "Iteration 104, loss = 0.16093028\n",
      "Iteration 105, loss = 0.15704385\n",
      "Iteration 106, loss = 0.15864675\n",
      "Iteration 107, loss = 0.15956207\n",
      "Iteration 108, loss = 0.15807292\n",
      "Iteration 109, loss = 0.15627255\n",
      "Iteration 110, loss = 0.15433454\n",
      "Iteration 111, loss = 0.15904039\n",
      "Iteration 112, loss = 0.16265674\n",
      "Iteration 113, loss = 0.15767269\n",
      "Iteration 114, loss = 0.16733422\n",
      "Iteration 115, loss = 0.15479488\n",
      "Iteration 116, loss = 0.15202178\n",
      "Iteration 117, loss = 0.15261835\n",
      "Iteration 118, loss = 0.15146935\n",
      "Iteration 119, loss = 0.15427988\n",
      "Iteration 120, loss = 0.14951630\n",
      "Iteration 121, loss = 0.14739148\n",
      "Iteration 122, loss = 0.14941932\n",
      "Iteration 123, loss = 0.17072542\n",
      "Iteration 124, loss = 0.19747252\n",
      "Iteration 125, loss = 0.14772883\n",
      "Iteration 126, loss = 0.14960158\n",
      "Iteration 127, loss = 0.14585056\n",
      "Iteration 128, loss = 0.14159316\n",
      "Iteration 129, loss = 0.14150934\n",
      "Iteration 130, loss = 0.14408240\n",
      "Iteration 131, loss = 0.14188086\n",
      "Iteration 132, loss = 0.14143806\n",
      "Iteration 133, loss = 0.14806275\n",
      "Iteration 134, loss = 0.13952809\n",
      "Iteration 135, loss = 0.14448764\n",
      "Iteration 136, loss = 0.17646396\n",
      "Iteration 137, loss = 0.16130239\n",
      "Iteration 138, loss = 0.14129401\n",
      "Iteration 139, loss = 0.18079721\n",
      "Iteration 140, loss = 0.13564821\n",
      "Iteration 141, loss = 0.13500872\n",
      "Iteration 142, loss = 0.13500090\n",
      "Iteration 143, loss = 0.13448452\n",
      "Iteration 144, loss = 0.13258481\n",
      "Iteration 145, loss = 0.15571277\n",
      "Iteration 146, loss = 0.14139871\n",
      "Iteration 147, loss = 0.13155424\n",
      "Iteration 148, loss = 0.13626393\n",
      "Iteration 149, loss = 0.14255532\n",
      "Iteration 150, loss = 0.15171285\n",
      "Iteration 151, loss = 0.13918616\n",
      "Iteration 152, loss = 0.14278826\n",
      "Iteration 153, loss = 0.13241821\n",
      "Iteration 154, loss = 0.13122469\n",
      "Iteration 155, loss = 0.14495299\n",
      "Iteration 156, loss = 0.13709121\n",
      "Iteration 157, loss = 0.16925091\n",
      "Iteration 158, loss = 0.14131249\n",
      "Iteration 159, loss = 0.13664980\n",
      "Iteration 160, loss = 0.13884143\n",
      "Iteration 161, loss = 0.12989587\n",
      "Iteration 162, loss = 0.13487280\n",
      "Iteration 163, loss = 0.12849066\n",
      "Iteration 164, loss = 0.13046427\n",
      "Iteration 165, loss = 0.14155785\n",
      "Iteration 166, loss = 0.13014707\n",
      "Iteration 167, loss = 0.14131036\n",
      "Iteration 168, loss = 0.12798764\n",
      "Iteration 169, loss = 0.13751410\n",
      "Iteration 170, loss = 0.12744510\n",
      "Iteration 171, loss = 0.15676988\n",
      "Iteration 172, loss = 0.12956268\n",
      "Iteration 173, loss = 0.12780805\n",
      "Iteration 174, loss = 0.12493242\n",
      "Iteration 175, loss = 0.13179561\n",
      "Iteration 176, loss = 0.13303926\n",
      "Iteration 177, loss = 0.12391948\n",
      "Iteration 178, loss = 0.12455912\n",
      "Iteration 179, loss = 0.12861937\n",
      "Iteration 180, loss = 0.12917444\n",
      "Iteration 181, loss = 0.12284251\n",
      "Iteration 182, loss = 0.13526940\n",
      "Iteration 183, loss = 0.13076111\n",
      "Iteration 184, loss = 0.12447105\n",
      "Iteration 185, loss = 0.12100131\n",
      "Iteration 186, loss = 0.13148972\n",
      "Iteration 187, loss = 0.12546792\n",
      "Iteration 188, loss = 0.14308520\n",
      "Iteration 189, loss = 0.12488285\n",
      "Iteration 190, loss = 0.14270971\n",
      "Iteration 191, loss = 0.13596818\n",
      "Iteration 192, loss = 0.12497271\n",
      "Iteration 193, loss = 0.12394842\n",
      "Iteration 194, loss = 0.12412240\n",
      "Iteration 195, loss = 0.16631442\n",
      "Iteration 196, loss = 0.12160544\n",
      "Training loss did not improve more than tol=0.000100 for 10 consecutive epochs. Stopping.\n",
      "Model Test Score: 0.9509770311964347\n"
     ]
    },
    {
     "data": {
      "image/png": "[encoded data removed]",
      "text/plain": [
       "<Figure size 640x480 with 2 Axes>"
      ]
     },
     "metadata": {},
     "output_type": "display_data"
    },
    {
     "data": {
      "image/png": "[encoded data removed]",
      "text/plain": [
       "<Figure size 640x480 with 1 Axes>"
      ]
     },
     "metadata": {},
     "output_type": "display_data"
    }
   ],
   "source": [
    "# Train and evaluate a Neural Network classifier on the data.\n",
    "predictor.neural_network_classifier(X_train, X_test, y_train, y_test)"
   ]
  },
  {
   "cell_type": "markdown",
   "id": "2e5cac43",
   "metadata": {
    "papermill": {
     "duration": 0.008704,
     "end_time": "2024-10-18T10:10:29.601749",
     "exception": false,
     "start_time": "2024-10-18T10:10:29.593045",
     "status": "completed"
    },
    "tags": []
   },
   "source": [
    "## Testing out the Random Forest Classifier"
   ]
  },
  {
   "cell_type": "code",
   "execution_count": 12,
   "id": "a0c2bf61",
   "metadata": {
    "execution": {
     "iopub.execute_input": "2024-10-18T10:10:29.622145Z",
     "iopub.status.busy": "2024-10-18T10:10:29.621074Z",
     "iopub.status.idle": "2024-10-18T10:10:30.641163Z",
     "shell.execute_reply": "2024-10-18T10:10:30.640173Z"
    },
    "papermill": {
     "duration": 1.032471,
     "end_time": "2024-10-18T10:10:30.643314",
     "exception": false,
     "start_time": "2024-10-18T10:10:29.610843",
     "status": "completed"
    },
    "tags": []
   },
   "outputs": [
    {
     "name": "stdout",
     "output_type": "stream",
     "text": [
      "              precision    recall  f1-score   support\n",
      "\n",
      "           0       0.96      0.99      0.97      1457\n",
      "           1       0.99      0.96      0.97      1460\n",
      "\n",
      "    accuracy                           0.97      2917\n",
      "   macro avg       0.97      0.97      0.97      2917\n",
      "weighted avg       0.97      0.97      0.97      2917\n",
      "\n"
     ]
    },
    {
     "data": {
      "image/png": "[encoded data removed]",
      "text/plain": [
       "<Figure size 640x480 with 2 Axes>"
      ]
     },
     "metadata": {},
     "output_type": "display_data"
    }
   ],
   "source": [
    "# Train and evaluate a Random Forest classifier on the data.\n",
    "predictor.random_forest_classifier(X_train, X_test, y_train, y_test)"
   ]
  }
 ],
 "metadata": {
  "kaggle": {
   "accelerator": "none",
   "dataSources": [
    {
     "datasetId": 1120859,
     "sourceId": 1882037,
     "sourceType": "datasetVersion"
    }
   ],
   "dockerImageVersionId": 30786,
   "isGpuEnabled": false,
   "isInternetEnabled": false,
   "language": "python",
   "sourceType": "notebook"
  },
  "kernelspec": {
   "display_name": "Python 3",
   "language": "python",
   "name": "python3"
  },
  "language_info": {
   "codemirror_mode": {
    "name": "ipython",
    "version": 3
   },
   "file_extension": ".py",
   "mimetype": "text/x-python",
   "name": "python",
   "nbconvert_exporter": "python",
   "pygments_lexer": "ipython3",
   "version": "3.10.14"
  },
  "papermill": {
   "default_parameters": {},
   "duration": 12.920041,
   "end_time": "2024-10-18T10:10:31.273672",
   "environment_variables": {},
   "exception": null,
   "input_path": "__notebook__.ipynb",
   "output_path": "__notebook__.ipynb",
   "parameters": {},
   "start_time": "2024-10-18T10:10:18.353631",
   "version": "2.6.0"
  }
 },
 "nbformat": 4,
 "nbformat_minor": 5
}
